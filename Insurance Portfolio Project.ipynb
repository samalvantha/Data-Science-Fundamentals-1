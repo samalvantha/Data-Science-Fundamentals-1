{
 "cells": [
  {
   "cell_type": "code",
   "execution_count": 220,
   "id": "b6d414ce",
   "metadata": {},
   "outputs": [],
   "source": [
    "# Lets take the data from this insurance csv and find the average age, if there are more men or women in this study, and the average difference in costs between smokers and non-smokers.\n",
    "import csv\n",
    "\n",
    "with open('insurance.csv', newline='') as insurance_csv:\n",
    "    records = csv.DictReader(insurance_csv)\n",
    "    age = []\n",
    "    sex = []\n",
    "    bmi = []\n",
    "    children = []\n",
    "    smoker = []\n",
    "    region = []\n",
    "    charges = []\n",
    "    for row in records:\n",
    "        age.append(float(row['age']))\n",
    "        sex.append(row['sex'])\n",
    "        bmi.append(float(row['bmi']))\n",
    "        children.append(float(row['children']))\n",
    "        smoker.append(row['smoker'])\n",
    "        region.append(row['region'])\n",
    "        charges.append(float(row['charges']))\n",
    "# All of our data from the insurance csv is now in their own lists."
   ]
  },
  {
   "cell_type": "code",
   "execution_count": 256,
   "id": "907b21a2",
   "metadata": {},
   "outputs": [
    {
     "name": "stdout",
     "output_type": "stream",
     "text": [
      "The average age is 39.\n"
     ]
    }
   ],
   "source": [
    "# First, lets build a function to find the average age.\n",
    "ave_age = 0\n",
    "def average_age(age):\n",
    "    ave_age = round(sum(age)/len(age))\n",
    "    return ave_age\n",
    "print(\"The average age is \" + str(average_age(age)) + \".\")"
   ]
  },
  {
   "cell_type": "code",
   "execution_count": 258,
   "id": "f2cbb2db",
   "metadata": {},
   "outputs": [
    {
     "name": "stdout",
     "output_type": "stream",
     "text": [
      "There are more males in this data.\n"
     ]
    }
   ],
   "source": [
    "# Next, lets build a function to see if there are more men or women in the data.\n",
    "def majority_finder(sex):\n",
    "    majority = \"\"\n",
    "    female = 0\n",
    "    male = 0\n",
    "    for person in sex:\n",
    "        if person == 'female':\n",
    "            female += 1\n",
    "        if person == 'male':\n",
    "            male += 1\n",
    "    if female > male:\n",
    "        majority += 'female'\n",
    "    else:\n",
    "        majority += 'male'\n",
    "    return majority\n",
    "print(\"There are more \" + str(majority_finder(sex)) + \"s in this data.\")"
   ]
  },
  {
   "cell_type": "code",
   "execution_count": 223,
   "id": "b14f0c85",
   "metadata": {},
   "outputs": [
    {
     "name": "stdout",
     "output_type": "stream",
     "text": [
      "(49, 51)\n"
     ]
    }
   ],
   "source": [
    "# Bonus! Let's build a function to find the percentage of females and percentage of males.\n",
    "def percent_sex(sex):\n",
    "    female = 0\n",
    "    male = 0\n",
    "    for person in sex:\n",
    "        if person == 'female':\n",
    "            female += 1\n",
    "        if person == 'male':\n",
    "            male += 1\n",
    "    return round((female/(female+male))*100) , round((male/(female+male))*100)\n",
    "print(percent_sex(sex))"
   ]
  },
  {
   "cell_type": "code",
   "execution_count": 224,
   "id": "38654c60",
   "metadata": {},
   "outputs": [],
   "source": [
    "# That's pretty even!"
   ]
  },
  {
   "cell_type": "code",
   "execution_count": 252,
   "id": "b49fc704",
   "metadata": {},
   "outputs": [
    {
     "name": "stdout",
     "output_type": "stream",
     "text": [
      "Smokers pay $23616 more on average compared to non-smokers.\n"
     ]
    }
   ],
   "source": [
    "# Lets check the difference in the average smoker cost versus the average non-smoker cost.\n",
    "smoker_charges = list(zip(smoker,charges))\n",
    "def diff_smoke_nonsmoke_avg(smoker_charges):\n",
    "    total_smoker_cost = 0\n",
    "    total_nonsmoker_cost = 0\n",
    "    yes_num = 0\n",
    "    no_num = 0\n",
    "    for i in smoker_charges:\n",
    "        if 'yes' in i:\n",
    "            total_smoker_cost += i[1]\n",
    "            yes_num += 1\n",
    "        if 'no' in i:\n",
    "            total_nonsmoker_cost += i[1]\n",
    "            no_num += 1\n",
    "    avg_smoker_cost = round(total_smoker_cost/yes_num)\n",
    "    avg_nonsmoker_cost = round(total_nonsmoker_cost/no_num)\n",
    "    diff_avg_smoker = avg_smoker_cost - avg_nonsmoker_cost\n",
    "    return diff_avg_smoker\n",
    "print(\"Smokers pay $\" + str(diff_smoke_nonsmoke_avg(smoker_charges)) + \" more on average compared to non-smokers.\")"
   ]
  },
  {
   "cell_type": "code",
   "execution_count": 253,
   "id": "45a2c808",
   "metadata": {},
   "outputs": [],
   "source": [
    "# Smoking is an expensive habit!"
   ]
  }
 ],
 "metadata": {
  "kernelspec": {
   "display_name": "Python 3 (ipykernel)",
   "language": "python",
   "name": "python3"
  },
  "language_info": {
   "codemirror_mode": {
    "name": "ipython",
    "version": 3
   },
   "file_extension": ".py",
   "mimetype": "text/x-python",
   "name": "python",
   "nbconvert_exporter": "python",
   "pygments_lexer": "ipython3",
   "version": "3.11.4"
  }
 },
 "nbformat": 4,
 "nbformat_minor": 5
}
